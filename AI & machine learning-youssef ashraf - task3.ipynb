{
 "cells": [
  {
   "cell_type": "markdown",
   "id": "ac9c51f0",
   "metadata": {},
   "source": [
    "\n",
    "#  Diabetes Classification Pipeline \n",
    "\n"
   ]
  },
  {
   "cell_type": "markdown",
   "id": "f6ffd436",
   "metadata": {},
   "source": [
    "##  Imports libraries"
   ]
  },
  {
   "cell_type": "code",
   "execution_count": 1,
   "id": "31f481f7",
   "metadata": {},
   "outputs": [],
   "source": [
    "\n",
    "import warnings\n",
    "warnings.filterwarnings(\"ignore\")\n",
    "\n",
    "import numpy as np\n",
    "import pandas as pd\n",
    "import matplotlib.pyplot as plt\n",
    "\n",
    "from datasets import load_dataset\n",
    "\n",
    "from sklearn.model_selection import train_test_split, StratifiedKFold, GridSearchCV, cross_val_score\n",
    "from sklearn.preprocessing import StandardScaler\n",
    "from sklearn.pipeline import Pipeline\n",
    "from sklearn.metrics import accuracy_score, precision_score, recall_score, f1_score, confusion_matrix\n",
    "\n",
    "from sklearn.svm import SVC\n",
    "from sklearn.tree import DecisionTreeClassifier\n",
    "from sklearn.ensemble import RandomForestClassifier\n",
    "from sklearn.neighbors import KNeighborsClassifier\n",
    "from sklearn.linear_model import LogisticRegression\n",
    "\n",
    "\n"
   ]
  },
  {
   "cell_type": "markdown",
   "id": "1f942837",
   "metadata": {},
   "source": [
    "##  Load & Inspect the Dataset"
   ]
  },
  {
   "cell_type": "code",
   "execution_count": 2,
   "id": "452d6b24",
   "metadata": {},
   "outputs": [
    {
     "name": "stdout",
     "output_type": "stream",
     "text": [
      "Loading dataset from Hugging Face (weeebdev/diabetes)...\n"
     ]
    }
   ],
   "source": [
    "\n",
    "print(\"Loading dataset from Hugging Face (weeebdev/diabetes)...\")\n",
    "df= load_dataset(\"weeebdev/diabetes\")\n",
    "df = df['train'].to_pandas().copy()\n",
    "\n"
   ]
  },
  {
   "cell_type": "code",
   "execution_count": 3,
   "id": "3e0bf584",
   "metadata": {},
   "outputs": [
    {
     "name": "stdout",
     "output_type": "stream",
     "text": [
      "(768, 9)\n"
     ]
    }
   ],
   "source": [
    "print(df.shape)"
   ]
  },
  {
   "cell_type": "code",
   "execution_count": 4,
   "id": "8f3916b2",
   "metadata": {},
   "outputs": [
    {
     "data": {
      "text/html": [
       "<div>\n",
       "<style scoped>\n",
       "    .dataframe tbody tr th:only-of-type {\n",
       "        vertical-align: middle;\n",
       "    }\n",
       "\n",
       "    .dataframe tbody tr th {\n",
       "        vertical-align: top;\n",
       "    }\n",
       "\n",
       "    .dataframe thead th {\n",
       "        text-align: right;\n",
       "    }\n",
       "</style>\n",
       "<table border=\"1\" class=\"dataframe\">\n",
       "  <thead>\n",
       "    <tr style=\"text-align: right;\">\n",
       "      <th></th>\n",
       "      <th>Number of times pregnant</th>\n",
       "      <th>Plasma glucose concentration a 2 hours in an oral glucose tolerance test</th>\n",
       "      <th>Diastolic blood pressure (mm Hg)</th>\n",
       "      <th>Triceps skin fold thickness (mm)</th>\n",
       "      <th>2-Hour serum insulin (mu U/ml)</th>\n",
       "      <th>Body mass index (weight in kg/(height in m)^2)</th>\n",
       "      <th>Diabetes pedigree function</th>\n",
       "      <th>Age (years)</th>\n",
       "      <th>Class variable</th>\n",
       "    </tr>\n",
       "  </thead>\n",
       "  <tbody>\n",
       "    <tr>\n",
       "      <th>0</th>\n",
       "      <td>6</td>\n",
       "      <td>148</td>\n",
       "      <td>72</td>\n",
       "      <td>35</td>\n",
       "      <td>0</td>\n",
       "      <td>33.6</td>\n",
       "      <td>0.627</td>\n",
       "      <td>50</td>\n",
       "      <td>1</td>\n",
       "    </tr>\n",
       "    <tr>\n",
       "      <th>1</th>\n",
       "      <td>1</td>\n",
       "      <td>85</td>\n",
       "      <td>66</td>\n",
       "      <td>29</td>\n",
       "      <td>0</td>\n",
       "      <td>26.6</td>\n",
       "      <td>0.351</td>\n",
       "      <td>31</td>\n",
       "      <td>0</td>\n",
       "    </tr>\n",
       "    <tr>\n",
       "      <th>2</th>\n",
       "      <td>8</td>\n",
       "      <td>183</td>\n",
       "      <td>64</td>\n",
       "      <td>0</td>\n",
       "      <td>0</td>\n",
       "      <td>23.3</td>\n",
       "      <td>0.672</td>\n",
       "      <td>32</td>\n",
       "      <td>1</td>\n",
       "    </tr>\n",
       "    <tr>\n",
       "      <th>3</th>\n",
       "      <td>1</td>\n",
       "      <td>89</td>\n",
       "      <td>66</td>\n",
       "      <td>23</td>\n",
       "      <td>94</td>\n",
       "      <td>28.1</td>\n",
       "      <td>0.167</td>\n",
       "      <td>21</td>\n",
       "      <td>0</td>\n",
       "    </tr>\n",
       "    <tr>\n",
       "      <th>4</th>\n",
       "      <td>0</td>\n",
       "      <td>137</td>\n",
       "      <td>40</td>\n",
       "      <td>35</td>\n",
       "      <td>168</td>\n",
       "      <td>43.1</td>\n",
       "      <td>2.288</td>\n",
       "      <td>33</td>\n",
       "      <td>1</td>\n",
       "    </tr>\n",
       "  </tbody>\n",
       "</table>\n",
       "</div>"
      ],
      "text/plain": [
       "   Number of times pregnant  \\\n",
       "0                         6   \n",
       "1                         1   \n",
       "2                         8   \n",
       "3                         1   \n",
       "4                         0   \n",
       "\n",
       "   Plasma glucose concentration a 2 hours in an oral glucose tolerance test  \\\n",
       "0                                                148                          \n",
       "1                                                 85                          \n",
       "2                                                183                          \n",
       "3                                                 89                          \n",
       "4                                                137                          \n",
       "\n",
       "   Diastolic blood pressure (mm Hg)  Triceps skin fold thickness (mm)  \\\n",
       "0                                72                                35   \n",
       "1                                66                                29   \n",
       "2                                64                                 0   \n",
       "3                                66                                23   \n",
       "4                                40                                35   \n",
       "\n",
       "   2-Hour serum insulin (mu U/ml)  \\\n",
       "0                               0   \n",
       "1                               0   \n",
       "2                               0   \n",
       "3                              94   \n",
       "4                             168   \n",
       "\n",
       "   Body mass index (weight in kg/(height in m)^2)  Diabetes pedigree function  \\\n",
       "0                                            33.6                       0.627   \n",
       "1                                            26.6                       0.351   \n",
       "2                                            23.3                       0.672   \n",
       "3                                            28.1                       0.167   \n",
       "4                                            43.1                       2.288   \n",
       "\n",
       "   Age (years)  Class variable  \n",
       "0           50               1  \n",
       "1           31               0  \n",
       "2           32               1  \n",
       "3           21               0  \n",
       "4           33               1  "
      ]
     },
     "execution_count": 4,
     "metadata": {},
     "output_type": "execute_result"
    }
   ],
   "source": [
    "df.head()"
   ]
  },
  {
   "cell_type": "code",
   "execution_count": 5,
   "id": "ae4bd69a",
   "metadata": {},
   "outputs": [
    {
     "name": "stdout",
     "output_type": "stream",
     "text": [
      "<class 'pandas.core.frame.DataFrame'>\n",
      "RangeIndex: 768 entries, 0 to 767\n",
      "Data columns (total 9 columns):\n",
      " #   Column                                                                    Non-Null Count  Dtype  \n",
      "---  ------                                                                    --------------  -----  \n",
      " 0   Number of times pregnant                                                  768 non-null    int64  \n",
      " 1   Plasma glucose concentration a 2 hours in an oral glucose tolerance test  768 non-null    int64  \n",
      " 2   Diastolic blood pressure (mm Hg)                                          768 non-null    int64  \n",
      " 3   Triceps skin fold thickness (mm)                                          768 non-null    int64  \n",
      " 4   2-Hour serum insulin (mu U/ml)                                            768 non-null    int64  \n",
      " 5   Body mass index (weight in kg/(height in m)^2)                            768 non-null    float64\n",
      " 6   Diabetes pedigree function                                                768 non-null    float64\n",
      " 7   Age (years)                                                               768 non-null    int64  \n",
      " 8   Class variable                                                            768 non-null    int64  \n",
      "dtypes: float64(2), int64(7)\n",
      "memory usage: 54.1 KB\n",
      "None\n"
     ]
    }
   ],
   "source": [
    "print(df.info())"
   ]
  },
  {
   "cell_type": "markdown",
   "id": "cef471bd",
   "metadata": {},
   "source": [
    "\n",
    "##  Handle Missing Values or Incorrect Data Types \n",
    "\n"
   ]
  },
  {
   "cell_type": "code",
   "execution_count": 6,
   "id": "1797fbad",
   "metadata": {},
   "outputs": [
    {
     "data": {
      "text/plain": [
       "Number of times pregnant                                                    0\n",
       "Plasma glucose concentration a 2 hours in an oral glucose tolerance test    0\n",
       "Diastolic blood pressure (mm Hg)                                            0\n",
       "Triceps skin fold thickness (mm)                                            0\n",
       "2-Hour serum insulin (mu U/ml)                                              0\n",
       "Body mass index (weight in kg/(height in m)^2)                              0\n",
       "Diabetes pedigree function                                                  0\n",
       "Age (years)                                                                 0\n",
       "Class variable                                                              0\n",
       "dtype: int64"
      ]
     },
     "execution_count": 6,
     "metadata": {},
     "output_type": "execute_result"
    }
   ],
   "source": [
    "df.isna().sum()"
   ]
  },
  {
   "cell_type": "code",
   "execution_count": 7,
   "id": "cb3ca222",
   "metadata": {},
   "outputs": [
    {
     "data": {
      "text/plain": [
       "Number of times pregnant                                                      int64\n",
       "Plasma glucose concentration a 2 hours in an oral glucose tolerance test      int64\n",
       "Diastolic blood pressure (mm Hg)                                              int64\n",
       "Triceps skin fold thickness (mm)                                              int64\n",
       "2-Hour serum insulin (mu U/ml)                                                int64\n",
       "Body mass index (weight in kg/(height in m)^2)                              float64\n",
       "Diabetes pedigree function                                                  float64\n",
       "Age (years)                                                                   int64\n",
       "Class variable                                                                int64\n",
       "dtype: object"
      ]
     },
     "execution_count": 7,
     "metadata": {},
     "output_type": "execute_result"
    }
   ],
   "source": [
    "df.dtypes"
   ]
  },
  {
   "cell_type": "code",
   "execution_count": 8,
   "id": "aeba6504",
   "metadata": {},
   "outputs": [
    {
     "data": {
      "text/plain": [
       "np.int64(0)"
      ]
     },
     "execution_count": 8,
     "metadata": {},
     "output_type": "execute_result"
    }
   ],
   "source": [
    "df.duplicated().sum()"
   ]
  },
  {
   "cell_type": "code",
   "execution_count": 9,
   "id": "bebd381a",
   "metadata": {},
   "outputs": [
    {
     "name": "stdout",
     "output_type": "stream",
     "text": [
      "Diabetes pedigree function                                                   0.000000\n",
      "Age (years)                                                                  0.000000\n",
      "Plasma glucose concentration a 2 hours in an oral glucose tolerance test     0.651042\n",
      "Body mass index (weight in kg/(height in m)^2)                               1.432292\n",
      "Diastolic blood pressure (mm Hg)                                             4.557292\n",
      "Number of times pregnant                                                    14.453125\n",
      "Triceps skin fold thickness (mm)                                            29.557292\n",
      "2-Hour serum insulin (mu U/ml)                                              48.697917\n",
      "Class variable                                                              65.104167\n",
      "dtype: float64\n"
     ]
    }
   ],
   "source": [
    "zero_ratio = (df.select_dtypes(include=\"number\") == 0).mean().sort_values()\n",
    "print(zero_ratio.head(10)*100)\n"
   ]
  },
  {
   "cell_type": "code",
   "execution_count": 10,
   "id": "6267d800",
   "metadata": {},
   "outputs": [
    {
     "name": "stdout",
     "output_type": "stream",
     "text": [
      "Diabetes pedigree function                                                    0\n",
      "Age (years)                                                                   0\n",
      "Plasma glucose concentration a 2 hours in an oral glucose tolerance test      5\n",
      "Body mass index (weight in kg/(height in m)^2)                               11\n",
      "Diastolic blood pressure (mm Hg)                                             35\n",
      "Number of times pregnant                                                    111\n",
      "Triceps skin fold thickness (mm)                                            227\n",
      "2-Hour serum insulin (mu U/ml)                                              374\n",
      "Class variable                                                              500\n",
      "dtype: int64\n"
     ]
    }
   ],
   "source": [
    "zero_count = (df.select_dtypes(include=\"number\") == 0).sum().sort_values()\n",
    "print(zero_count)\n"
   ]
  },
  {
   "cell_type": "code",
   "execution_count": 11,
   "id": "f0261723",
   "metadata": {},
   "outputs": [],
   "source": [
    "\n",
    "invalid_zero_cols = [\n",
    "    \"Plasma glucose concentration a 2 hours in an oral glucose tolerance test\",\n",
    "    \"Diastolic blood pressure (mm Hg)\",\n",
    "    \"Triceps skin fold thickness (mm)\",\n",
    "    \"2-Hour serum insulin (mu U/ml)\",\n",
    "    \"Body mass index (weight in kg/(height in m)^2)\",\n",
    "]\n",
    "\n",
    "df[invalid_zero_cols] = (\n",
    "    df[invalid_zero_cols]\n",
    "    .replace(0, np.nan)\n",
    "    .fillna(df[invalid_zero_cols].median())\n",
    ")\n"
   ]
  },
  {
   "cell_type": "code",
   "execution_count": 12,
   "id": "43c2f601",
   "metadata": {},
   "outputs": [
    {
     "name": "stdout",
     "output_type": "stream",
     "text": [
      "Plasma glucose concentration a 2 hours in an oral glucose tolerance test     0.000000\n",
      "Diastolic blood pressure (mm Hg)                                             0.000000\n",
      "Triceps skin fold thickness (mm)                                             0.000000\n",
      "2-Hour serum insulin (mu U/ml)                                               0.000000\n",
      "Diabetes pedigree function                                                   0.000000\n",
      "Body mass index (weight in kg/(height in m)^2)                               0.000000\n",
      "Age (years)                                                                  0.000000\n",
      "Number of times pregnant                                                    14.453125\n",
      "Class variable                                                              65.104167\n",
      "dtype: float64\n"
     ]
    }
   ],
   "source": [
    "zero_ratio = (df.select_dtypes(include=\"number\") == 0).mean().sort_values()\n",
    "print(zero_ratio.head(10)*100)\n"
   ]
  },
  {
   "cell_type": "markdown",
   "id": "b544645d",
   "metadata": {},
   "source": [
    "## Encode Target \n",
    "\n",
    "the target not need encoding"
   ]
  },
  {
   "cell_type": "code",
   "execution_count": 13,
   "id": "a6c403c6",
   "metadata": {},
   "outputs": [
    {
     "name": "stdout",
     "output_type": "stream",
     "text": [
      "[1 0]\n",
      "Class variable\n",
      "0    500\n",
      "1    268\n",
      "Name: count, dtype: int64\n"
     ]
    }
   ],
   "source": [
    "print(df['Class variable'].unique())\n",
    "print(df['Class variable'].value_counts())\n"
   ]
  },
  {
   "cell_type": "code",
   "execution_count": 14,
   "id": "b6927472",
   "metadata": {},
   "outputs": [],
   "source": [
    "target_col = 'Class variable'\n"
   ]
  },
  {
   "cell_type": "markdown",
   "id": "d9413f9e",
   "metadata": {},
   "source": [
    "##  Train / Validation / Test Split"
   ]
  },
  {
   "cell_type": "code",
   "execution_count": 15,
   "id": "5c03070a",
   "metadata": {},
   "outputs": [],
   "source": [
    "X = df.drop(columns=[target_col])\n",
    "y = df[target_col]\n"
   ]
  },
  {
   "cell_type": "code",
   "execution_count": 16,
   "id": "ca8f65a1",
   "metadata": {},
   "outputs": [],
   "source": [
    "X_train, X_temp, y_train, y_temp = train_test_split(\n",
    "    X, y, test_size=0.30, stratify=y, random_state=42\n",
    ")\n",
    "X_valid, X_test, y_valid, y_test = train_test_split(\n",
    "    X_temp, y_temp, test_size=0.50, stratify=y_temp, random_state=42\n",
    ")"
   ]
  },
  {
   "cell_type": "markdown",
   "id": "e545fbbf",
   "metadata": {},
   "source": [
    "##  K-Fold Cross-Validation "
   ]
  },
  {
   "cell_type": "code",
   "execution_count": 17,
   "id": "5f653ba0",
   "metadata": {},
   "outputs": [
    {
     "name": "stdout",
     "output_type": "stream",
     "text": [
      "Using StratifiedKFold with n_splits=5\n"
     ]
    }
   ],
   "source": [
    "\n",
    "skf = StratifiedKFold(n_splits=5, shuffle=True, random_state=42)\n",
    "print(\"Using StratifiedKFold with n_splits=5\")\n"
   ]
  },
  {
   "cell_type": "markdown",
   "id": "89fa86b9",
   "metadata": {},
   "source": [
    "## Hyperparameter Tuning for each model"
   ]
  },
  {
   "cell_type": "code",
   "execution_count": 18,
   "id": "211ff835",
   "metadata": {},
   "outputs": [],
   "source": [
    "best_models = {}"
   ]
  },
  {
   "cell_type": "markdown",
   "id": "72bd932a",
   "metadata": {},
   "source": [
    "## SVM"
   ]
  },
  {
   "cell_type": "code",
   "execution_count": 19,
   "id": "f8a36d1d",
   "metadata": {},
   "outputs": [
    {
     "name": "stdout",
     "output_type": "stream",
     "text": [
      "SVM  Best Params: {'clf__C': 1, 'clf__kernel': 'linear'}\n",
      "SVM  Best CV F1 : 0.6442\n"
     ]
    }
   ],
   "source": [
    "svm_pipe = Pipeline([\n",
    "    ('scaler', StandardScaler()),\n",
    "    ('clf', SVC())\n",
    "])\n",
    "\n",
    "svm_grid = {\n",
    "    'clf__kernel': ['linear', 'rbf', 'poly', 'sigmoid'],\n",
    "    'clf__C': [0.1, 1, 10]\n",
    "}\n",
    "\n",
    "svm_gs = GridSearchCV(svm_pipe, svm_grid, cv=skf, scoring='f1', n_jobs=-1)\n",
    "svm_gs.fit(X_train, y_train)\n",
    "\n",
    "print(\"SVM  Best Params:\", svm_gs.best_params_)\n",
    "print(\"SVM  Best CV F1 :\", round(svm_gs.best_score_, 4))\n",
    "\n",
    "best_models['SVM'] = svm_gs.best_estimator_\n"
   ]
  },
  {
   "cell_type": "markdown",
   "id": "59a410ad",
   "metadata": {},
   "source": [
    "## Decision Tree"
   ]
  },
  {
   "cell_type": "code",
   "execution_count": 20,
   "id": "3b56142b",
   "metadata": {},
   "outputs": [
    {
     "name": "stdout",
     "output_type": "stream",
     "text": [
      "DT   Best Params: {'clf__max_depth': 5}\n",
      "DT   Best CV F1 : 0.5692\n"
     ]
    }
   ],
   "source": [
    "dt_pipe = Pipeline([\n",
    "    ('scaler', StandardScaler()),\n",
    "    ('clf', DecisionTreeClassifier(random_state=42))\n",
    "])\n",
    "\n",
    "dt_grid = {\n",
    "    'clf__max_depth': [None, 5, 10]\n",
    "}\n",
    "\n",
    "dt_gs = GridSearchCV(dt_pipe, dt_grid, cv=skf, scoring='f1', n_jobs=-1)\n",
    "dt_gs.fit(X_train, y_train)\n",
    "\n",
    "print(\"DT   Best Params:\", dt_gs.best_params_)\n",
    "print(\"DT   Best CV F1 :\", round(dt_gs.best_score_, 4))\n",
    "\n",
    "best_models['Decision Tree'] = dt_gs.best_estimator_\n"
   ]
  },
  {
   "cell_type": "markdown",
   "id": "64b6f04a",
   "metadata": {},
   "source": [
    "## Random Forest"
   ]
  },
  {
   "cell_type": "code",
   "execution_count": 21,
   "id": "d58e1f81",
   "metadata": {},
   "outputs": [
    {
     "name": "stdout",
     "output_type": "stream",
     "text": [
      "RF   Best Params: {'clf__n_estimators': 100}\n",
      "RF   Best CV F1 : 0.6467\n"
     ]
    }
   ],
   "source": [
    "rf_pipe = Pipeline([\n",
    "    ('scaler', StandardScaler()),\n",
    "    ('clf', RandomForestClassifier(random_state=42))\n",
    "])\n",
    "\n",
    "rf_grid = {\n",
    "    'clf__n_estimators': [100, 300]\n",
    "}\n",
    "\n",
    "rf_gs = GridSearchCV(rf_pipe, rf_grid, cv=skf, scoring='f1', n_jobs=-1)\n",
    "rf_gs.fit(X_train, y_train)\n",
    "\n",
    "print(\"RF   Best Params:\", rf_gs.best_params_)\n",
    "print(\"RF   Best CV F1 :\", round(rf_gs.best_score_, 4))\n",
    "\n",
    "best_models['Random Forest'] = rf_gs.best_estimator_\n"
   ]
  },
  {
   "cell_type": "markdown",
   "id": "d1077ffb",
   "metadata": {},
   "source": [
    "## k-NN"
   ]
  },
  {
   "cell_type": "code",
   "execution_count": 22,
   "id": "a80efd67",
   "metadata": {},
   "outputs": [
    {
     "name": "stdout",
     "output_type": "stream",
     "text": [
      "kNN  Best Params: {'clf__n_neighbors': 11}\n",
      "kNN  Best CV F1 : 0.6405\n"
     ]
    }
   ],
   "source": [
    "knn_pipe = Pipeline([\n",
    "    ('scaler', StandardScaler()),\n",
    "    ('clf', KNeighborsClassifier())\n",
    "])\n",
    "\n",
    "knn_grid = {\n",
    "    'clf__n_neighbors': [3, 5, 11]\n",
    "}\n",
    "\n",
    "knn_gs = GridSearchCV(knn_pipe, knn_grid, cv=skf, scoring='f1', n_jobs=-1)\n",
    "knn_gs.fit(X_train, y_train)\n",
    "\n",
    "print(\"kNN  Best Params:\", knn_gs.best_params_)\n",
    "print(\"kNN  Best CV F1 :\", round(knn_gs.best_score_, 4))\n",
    "\n",
    "best_models['k-NN'] = knn_gs.best_estimator_\n"
   ]
  },
  {
   "cell_type": "markdown",
   "id": "c775ca2b",
   "metadata": {},
   "source": [
    "## Logistic Regression"
   ]
  },
  {
   "cell_type": "code",
   "execution_count": 23,
   "id": "77c6b82e",
   "metadata": {},
   "outputs": [
    {
     "name": "stdout",
     "output_type": "stream",
     "text": [
      "LR   Best Params: {'clf__C': 1}\n",
      "LR   Best CV F1 : 0.6523\n"
     ]
    }
   ],
   "source": [
    "logreg_pipe = Pipeline([\n",
    "    ('scaler', StandardScaler()),\n",
    "    ('clf', LogisticRegression(max_iter=1000, solver='lbfgs'))\n",
    "])\n",
    "\n",
    "logreg_grid = {\n",
    "    'clf__C': [0.1, 1, 10]\n",
    "}\n",
    "\n",
    "logreg_gs = GridSearchCV(logreg_pipe, logreg_grid, cv=skf, scoring='f1', n_jobs=-1)\n",
    "logreg_gs.fit(X_train, y_train)\n",
    "\n",
    "print(\"LR   Best Params:\", logreg_gs.best_params_)\n",
    "print(\"LR   Best CV F1 :\", round(logreg_gs.best_score_, 4))\n",
    "\n",
    "best_models['Logistic Regression'] = logreg_gs.best_estimator_\n"
   ]
  },
  {
   "cell_type": "markdown",
   "id": "33e128d3",
   "metadata": {},
   "source": [
    "## XGBoost"
   ]
  },
  {
   "cell_type": "code",
   "execution_count": 24,
   "id": "303a3472",
   "metadata": {},
   "outputs": [
    {
     "name": "stdout",
     "output_type": "stream",
     "text": [
      "XGB  Best Params: {'clf__max_depth': 3, 'clf__n_estimators': 100}\n",
      "XGB  Best CV F1 : 0.5933\n"
     ]
    }
   ],
   "source": [
    "from xgboost import XGBClassifier\n",
    "\n",
    "xgb_pipe = Pipeline([\n",
    "    ('scaler', StandardScaler()),\n",
    "    ('clf', XGBClassifier(random_state=42, eval_metric='logloss'))\n",
    "])\n",
    "\n",
    "xgb_grid = {\n",
    "    'clf__n_estimators': [100, 300],\n",
    "    'clf__max_depth': [3, 5]\n",
    "}\n",
    "\n",
    "xgb_gs = GridSearchCV(\n",
    "    xgb_pipe,\n",
    "    xgb_grid,\n",
    "    cv=skf,\n",
    "    scoring='f1',\n",
    "    n_jobs=-1\n",
    ")\n",
    "\n",
    "xgb_gs.fit(X_train, y_train)\n",
    "\n",
    "print(\"XGB  Best Params:\", xgb_gs.best_params_)\n",
    "print(\"XGB  Best CV F1 :\", round(xgb_gs.best_score_, 4))\n",
    "\n",
    "best_models['XGBoost'] = xgb_gs.best_estimator_\n"
   ]
  },
  {
   "cell_type": "markdown",
   "id": "3c9798b7",
   "metadata": {},
   "source": [
    "## Model Training"
   ]
  },
  {
   "cell_type": "code",
   "execution_count": 25,
   "id": "3c44416b",
   "metadata": {},
   "outputs": [
    {
     "name": "stdout",
     "output_type": "stream",
     "text": [
      "✔ Trained: SVM\n",
      "✔ Trained: Decision Tree\n",
      "✔ Trained: Random Forest\n",
      "✔ Trained: XGBoost\n",
      "✔ Trained: k-NN\n",
      "✔ Trained: Logistic Regression\n"
     ]
    }
   ],
   "source": [
    "X_trfinal = pd.concat([X_train, X_valid], axis=0)\n",
    "y_trfinal = pd.concat([y_train, y_valid], axis=0)\n",
    "\n",
    "required = [\"SVM\", \"Decision Tree\", \"Random Forest\", \"XGBoost\", \"k-NN\", \"Logistic Regression\"]\n",
    "\n",
    "trained_models = {}\n",
    "for name in required:\n",
    "    model = best_models[name]           \n",
    "    model.fit(X_trfinal, y_trfinal)     \n",
    "    trained_models[name] = model\n",
    "    print(f\"✔ Trained: {name}\")\n"
   ]
  },
  {
   "cell_type": "markdown",
   "id": "028d1fd3",
   "metadata": {},
   "source": [
    "## Evaluation & Comparison"
   ]
  },
  {
   "cell_type": "code",
   "execution_count": 26,
   "id": "a81c9ced",
   "metadata": {},
   "outputs": [
    {
     "data": {
      "text/html": [
       "<div>\n",
       "<style scoped>\n",
       "    .dataframe tbody tr th:only-of-type {\n",
       "        vertical-align: middle;\n",
       "    }\n",
       "\n",
       "    .dataframe tbody tr th {\n",
       "        vertical-align: top;\n",
       "    }\n",
       "\n",
       "    .dataframe thead th {\n",
       "        text-align: right;\n",
       "    }\n",
       "</style>\n",
       "<table border=\"1\" class=\"dataframe\">\n",
       "  <thead>\n",
       "    <tr style=\"text-align: right;\">\n",
       "      <th></th>\n",
       "      <th>Model</th>\n",
       "      <th>Accuracy</th>\n",
       "      <th>Precision</th>\n",
       "      <th>Recall</th>\n",
       "      <th>F1</th>\n",
       "    </tr>\n",
       "  </thead>\n",
       "  <tbody>\n",
       "    <tr>\n",
       "      <th>0</th>\n",
       "      <td>XGBoost</td>\n",
       "      <td>0.775862</td>\n",
       "      <td>0.741935</td>\n",
       "      <td>0.560976</td>\n",
       "      <td>0.638889</td>\n",
       "    </tr>\n",
       "    <tr>\n",
       "      <th>1</th>\n",
       "      <td>Decision Tree</td>\n",
       "      <td>0.784483</td>\n",
       "      <td>0.807692</td>\n",
       "      <td>0.512195</td>\n",
       "      <td>0.626866</td>\n",
       "    </tr>\n",
       "    <tr>\n",
       "      <th>2</th>\n",
       "      <td>Random Forest</td>\n",
       "      <td>0.758621</td>\n",
       "      <td>0.740741</td>\n",
       "      <td>0.487805</td>\n",
       "      <td>0.588235</td>\n",
       "    </tr>\n",
       "    <tr>\n",
       "      <th>3</th>\n",
       "      <td>k-NN</td>\n",
       "      <td>0.724138</td>\n",
       "      <td>0.645161</td>\n",
       "      <td>0.487805</td>\n",
       "      <td>0.555556</td>\n",
       "    </tr>\n",
       "    <tr>\n",
       "      <th>4</th>\n",
       "      <td>SVM</td>\n",
       "      <td>0.741379</td>\n",
       "      <td>0.720000</td>\n",
       "      <td>0.439024</td>\n",
       "      <td>0.545455</td>\n",
       "    </tr>\n",
       "    <tr>\n",
       "      <th>5</th>\n",
       "      <td>Logistic Regression</td>\n",
       "      <td>0.724138</td>\n",
       "      <td>0.680000</td>\n",
       "      <td>0.414634</td>\n",
       "      <td>0.515152</td>\n",
       "    </tr>\n",
       "  </tbody>\n",
       "</table>\n",
       "</div>"
      ],
      "text/plain": [
       "                 Model  Accuracy  Precision    Recall        F1\n",
       "0              XGBoost  0.775862   0.741935  0.560976  0.638889\n",
       "1        Decision Tree  0.784483   0.807692  0.512195  0.626866\n",
       "2        Random Forest  0.758621   0.740741  0.487805  0.588235\n",
       "3                 k-NN  0.724138   0.645161  0.487805  0.555556\n",
       "4                  SVM  0.741379   0.720000  0.439024  0.545455\n",
       "5  Logistic Regression  0.724138   0.680000  0.414634  0.515152"
      ]
     },
     "execution_count": 26,
     "metadata": {},
     "output_type": "execute_result"
    }
   ],
   "source": [
    "\n",
    "\n",
    "results = []\n",
    "cms = {}\n",
    "\n",
    "for name, model in trained_models.items():\n",
    "    preds = model.predict(X_test)\n",
    "    acc  = accuracy_score(y_test, preds)\n",
    "    prec = precision_score(y_test, preds, zero_division=0)\n",
    "    rec  = recall_score(y_test, preds, zero_division=0)\n",
    "    f1   = f1_score(y_test, preds, zero_division=0)\n",
    "    cm   = confusion_matrix(y_test, preds)\n",
    "\n",
    "    results.append({\"Model\": name, \"Accuracy\": acc, \"Precision\": prec, \"Recall\": rec, \"F1\": f1})\n",
    "    cms[name] = cm\n",
    "\n",
    "summary = pd.DataFrame(results).sort_values(by=\"F1\", ascending=False).reset_index(drop=True)\n",
    "summary\n"
   ]
  },
  {
   "cell_type": "code",
   "execution_count": 27,
   "id": "84ec02de",
   "metadata": {},
   "outputs": [
    {
     "data": {
      "image/png": "[encoded data removed]",
      "text/plain": [
       "<Figure size 640x480 with 2 Axes>"
      ]
     },
     "metadata": {},
     "output_type": "display_data"
    },
    {
     "data": {
      "image/png": "[encoded data removed]",
      "text/plain": [
       "<Figure size 640x480 with 2 Axes>"
      ]
     },
     "metadata": {},
     "output_type": "display_data"
    },
    {
     "data": {
      "image/png": "[encoded data removed]",
      "text/plain": [
       "<Figure size 640x480 with 2 Axes>"
      ]
     },
     "metadata": {},
     "output_type": "display_data"
    },
    {
     "data": {
      "image/png": "[encoded data removed]",
      "text/plain": [
       "<Figure size 640x480 with 2 Axes>"
      ]
     },
     "metadata": {},
     "output_type": "display_data"
    },
    {
     "data": {
      "image/png": "[encoded data removed]",
      "text/plain": [
       "<Figure size 640x480 with 2 Axes>"
      ]
     },
     "metadata": {},
     "output_type": "display_data"
    },
    {
     "data": {
      "image/png": "[encoded data removed]",
      "text/plain": [
       "<Figure size 640x480 with 2 Axes>"
      ]
     },
     "metadata": {},
     "output_type": "display_data"
    }
   ],
   "source": [
    "\n",
    "\n",
    "for name, cm in cms.items():\n",
    "    plt.figure()\n",
    "    plt.imshow(cm, interpolation='nearest')\n",
    "    plt.title(f\"{name} — Confusion Matrix\")\n",
    "    plt.colorbar()\n",
    "    ticks = np.arange(2)\n",
    "    plt.xticks(ticks, ['Non-Diabetic','Diabetic'], rotation=45)\n",
    "    plt.yticks(ticks, ['Non-Diabetic','Diabetic'])\n",
    "\n",
    "    thresh = cm.max()/2 if cm.max()!=0 else 0.5\n",
    "    for i in range(cm.shape[0]):\n",
    "        for j in range(cm.shape[1]):\n",
    "            plt.text(j, i, int(cm[i, j]),\n",
    "                     ha=\"center\",\n",
    "                     color=\"white\" if cm[i, j] > thresh else \"black\")\n",
    "    plt.ylabel('True')\n",
    "    plt.xlabel('Predicted')\n",
    "    plt.tight_layout()\n",
    "    plt.show()\n"
   ]
  },
  {
   "cell_type": "markdown",
   "id": "c4c18447",
   "metadata": {},
   "source": [
    "## Conclusions\n",
    "\n",
    "- **XGBoost** delivered the best overall balance with the highest **F1 = 0.639** and **Recall = 0.561**, and near-top **Accuracy = 0.776**.  \n",
    "- **Decision Tree** achieved the top **Accuracy = 0.784** and **Precision = 0.808**, with **F1 = 0.627** (lower recall than XGBoost).  \n",
    "- **Random Forest** ranked third overall (**F1 = 0.588**, **Accuracy = 0.759**) and showed reasonable balance.  \n",
    "- **k-NN** and **SVM** had lower **F1** scores (**0.556** and **0.545**, respectively) than tree-based models; **Logistic Regression** was the lowest (**F1 = 0.515**).  \n",
    "- **Overall:** tree-based methods (**XGBoost**, **Decision Tree**, **Random Forest**) outperformed other classifiers on this task. Choose **XGBoost** if you prioritize balanced F1/recall, or **Decision Tree** if you value accuracy/precision and interpretability.\n"
   ]
  },
  {
   "cell_type": "markdown",
   "id": "92fdfbaf",
   "metadata": {},
   "source": []
  }
 ],
 "metadata": {
  "kernelspec": {
   "display_name": "Python 3",
   "language": "python",
   "name": "python3"
  },
  "language_info": {
   "codemirror_mode": {
    "name": "ipython",
    "version": 3
   },
   "file_extension": ".py",
   "mimetype": "text/x-python",
   "name": "python",
   "nbconvert_exporter": "python",
   "pygments_lexer": "ipython3",
   "version": "3.9.13"
  }
 },
 "nbformat": 4,
 "nbformat_minor": 5
}
